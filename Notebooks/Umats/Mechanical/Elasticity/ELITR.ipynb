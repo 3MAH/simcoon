{
 "cells": [
  {
   "cell_type": "markdown",
   "metadata": {},
   "source": [
    "# Transverse isotropy linear elasticity"
   ]
  },
  {
   "cell_type": "code",
   "execution_count": 1,
   "metadata": {
    "collapsed": false
   },
   "outputs": [],
   "source": [
    "%matplotlib inline\n",
    "\n",
    "import pylab\n",
    "import numpy as np\n",
    "import matplotlib.pyplot as plt\n",
    "from simcoon import simmit as sim\n",
    "import math\n",
    "import os\n",
    "dir = os.path.dirname(os.path.realpath('__file__'))"
   ]
  },
  {
   "cell_type": "markdown",
   "metadata": {},
   "source": [
    "In thermoelastic transversely isotropic materials eight parameters are required: \n",
    "\n",
    "1. The axis of transverse isotropy (1,2 or 3),\n",
    "2. The axial Young modulus $E_L$,\n",
    "3. The transverse Young modulus $E_T$,\n",
    "4. The axial Poisson ratio $\\nu_{TL}$,\n",
    "5. The transverse Poisson ratio $\\nu_{TT}$,\n",
    "6. The axial shear modulus $G_{LT}$,\n",
    "7. The axial coefficient of thermal expansion $\\alpha_L$,\n",
    "8. The transverse coefficient of thermal expansion $\\alpha_T$.\n",
    "\n",
    "When the axis of transverse isotropy is 1, the elastic stiffness tensor and the thermal expansion coefficients tensor are written in SMART+ formalism as\n",
    "\n",
    "$$\\boldsymbol{L}=\\left(\\begin{matrix} L_{1111} & L_{1122} & L_{1122} & 0 & 0 & 0 \\\\ L_{1122} & L_{2222} & L_{2233} & 0 & 0 & 0 \\\\ L_{1122} & L_{2233} & L_{2222} & 0 & 0 & 0 \\\\ 0 & 0 & 0 & L_{1212} & 0 & 0 \\\\ 0 & 0 & 0 & 0 & L_{1212} & 0 \\\\ 0 & 0 & 0 & 0 & 0 & L_{2323} \\end{matrix}\\right), \\quad \\boldsymbol{\\alpha}=\\left(\\begin{matrix} \\alpha_L & 0 & 0 \\\\ 0 & \\alpha_T & 0 \\\\ 0 & 0 & \\alpha_T \\end{matrix}\\right),$$\n",
    "\n",
    "where $$\\begin{array}{c}\\displaystyle{L_{1111}=\\frac{E_L}{\\omega}~(\\nu^2_{TT}-1), \\quad L_{1122}=-\\frac{E_L}{\\omega}~\\nu_{TL}~(1+\\nu_{TT}), \\quad L_{2222}=\\frac{E_L~\\nu^2_{TL}-E_T}{\\omega},} \\\\ \\displaystyle{L_{2233}=-\\frac{E_L~\\nu^2_{TL}+E_T~\\nu_{TT}}{\\omega}, \\quad L_{1212}=G_{LT}, \\quad L_{2323}=\\frac{E_T}{2(1+\\nu_{TT})},}\\\\ \\displaystyle{\\omega=\\frac{1}{E_T}(1+\\nu_{TT})~(2E_L~\\nu^2_{TL}+E_T~(\\nu_{TT}-1)).}\\end{array}$$\n",
    "\n",
    "Details on the elastic stiffness tensor of transversely isotropic media can be found in Christensen (1979). For axis of transverse isotropy being 2 or 3, the above tensors are properly rotated. The tangent stiffness tensor in this case is $\\boldsymbol{L}^t=\\boldsymbol{L}$. Moreover, the increment of the elastic strain is given by \n",
    "\n",
    "$$\\Delta\\varepsilon^{\\textrm{el}}_{ij}=\\Delta\\varepsilon^{\\textrm{tot}}_{ij}-\\alpha_{ij}\\Delta T.$$\n",
    "\n",
    "In the 1D case only one component of stress is computed, through the relation \n",
    "\n",
    "$$\\sigma^{\\textrm{fin}}_{11}=\\sigma^{\\textrm{init}}_{11}+L_{1111}\\Delta\\varepsilon^{\\textrm{el}}_{11}.$$\n",
    "\n",
    "In the plane stress case only three components of stress are computed, through the relations \n",
    "\n",
    "$$\\left(\\begin{matrix} \\sigma^{\\textrm{fin}}_{11} \\\\ \\sigma^{\\textrm{fin}}_{22} \\\\ \\sigma^{\\textrm{fin}}_{12} \\end{matrix}\\right) =\\left(\\begin{matrix} \\sigma^{\\textrm{init}}_{11} \\\\ \\sigma^{\\textrm{init}}_{22} \\\\ \\sigma^{\\textrm{init}}_{12} \\end{matrix}\\right)+\\boldsymbol{K} \\left(\\begin{matrix} \\Delta\\varepsilon^{\\textrm{el}}_{11} \\\\ \\Delta\\varepsilon^{\\textrm{el}}_{22} \\\\ 2\\Delta\\varepsilon^{\\textrm{el}}_{12} \\end{matrix}\\right),$$\n",
    "\n",
    "with $$\\boldsymbol{K}=\\left(\\begin{matrix} \\displaystyle{L_{1111}-\\frac{L_{1133}L_{3311}}{L_{3333}}} & \\displaystyle{L_{1122}-\\frac{L_{1133}L_{3322}}{L_{3333}}} & \\displaystyle{L_{1112}-\\frac{L_{1133}L_{3312}}{L_{3333}}} \\\\ \\displaystyle{L_{2211}-\\frac{L_{2233}L_{3311}}{L_{3333}}} & \\displaystyle{L_{2222}-\\frac{L_{2233}L_{3322}}{L_{3333}}} & \\displaystyle{L_{2212}-\\frac{L_{2233}L_{3312}}{L_{3333}}} \\\\ \\displaystyle{L_{1211}-\\frac{L_{1233}L_{3311}}{L_{3333}}} & \\displaystyle{L_{1222}-\\frac{L_{1233}L_{3322}}{L_{3333}}} & \\displaystyle{L_{1212}-\\frac{L_{1233}L_{3312}}{L_{3333}}} \\end{matrix}\\right).$$\n",
    "\n",
    "In the generalized plane strain/3D analysis case the stress tensor is computed through the relation\n",
    "\n",
    "$$\\sigma^{\\textrm{fin}}_{ij}=\\sigma^{\\textrm{init}}_{ij}+L_{ijkl}~\\Delta\\varepsilon^{\\textrm{el}}_{kl}.$$"
   ]
  },
  {
   "cell_type": "code",
   "execution_count": 3,
   "metadata": {
    "collapsed": false
   },
   "outputs": [
    {
     "data": {
      "image/png": "[encoded data removed]",
      "text/plain": [
       "<Figure size 1152x360 with 2 Axes>"
      ]
     },
     "metadata": {},
     "output_type": "display_data"
    }
   ],
   "source": [
    "umat_name = 'ELIST' #This is the 5 character code for the elastic transversely isotropic subroutine\n",
    "nstatev = 1 #The number of scalar variables required, only the initial temperature is stored here\n",
    "\n",
    "axis = 1\n",
    "E_L = 4500\n",
    "E_T = 2300\n",
    "nu_TL = 0.05\n",
    "nu_TT = 0.3\n",
    "G_LT = 2700\n",
    "alpha_L = 1.E-5\n",
    "alpha_T = 2.5E-5\n",
    "\n",
    "psi_rve = 0.\n",
    "theta_rve = 0.\n",
    "phi_rve = 0.\n",
    "solver_type = 0\n",
    "\n",
    "props = np.array([axis, E_L, E_T, nu_TL, nu_TT, G_LT, alpha_L, alpha_T])\n",
    "path_data = 'data'\n",
    "path_results = 'results'\n",
    "\n",
    "pathfile = '/path_1.txt'\n",
    "outputfile_1 = 'results_ELIST_1.txt'\n",
    "sim.solver(umat_name, props, nstatev, psi_rve, theta_rve, phi_rve, solver_type, path_data, path_results, pathfile, outputfile_1)\n",
    "outputfile_1 = dir + '/' + path_results + '/results_ELIST_1_global-0.txt'\n",
    "\n",
    "pathfile = '/path_2.txt'\n",
    "outputfile_2 = 'results_ELIST_2.txt'\n",
    "sim.solver(umat_name, props, nstatev, psi_rve, theta_rve, phi_rve, solver_type, path_data, path_results, pathfile, outputfile_2)\n",
    "outputfile_2 = dir + '/' + path_results + '/results_ELIST_2_global-0.txt'\n",
    "\n",
    "fig = plt.figure()\n",
    "pylab.rcParams['figure.figsize'] = (16.0, 5.0) #configure the figure output size\n",
    "\n",
    "ax = fig.add_subplot(1, 3, 1)\n",
    "\n",
    "e11, e22, e33, e12, e13, e23, s11, s22, s33, s12, s13, s23 = np.loadtxt(outputfile_1, usecols=(8,9,10,11,12,13,14,15,16,17,18,19), unpack=True)\n",
    "\n",
    "plt.grid(True)\n",
    "plt.tick_params(axis='both', which='major', labelsize=15)\n",
    "plt.xlabel('Strain', size = 15)\n",
    "plt.ylabel('Stress (MPa)', size = 15)\n",
    "plt.plot(e11,s11, c='black', label='direction 1')\n",
    "plt.legend(loc=2)\n",
    "\n",
    "ax = fig.add_subplot(1, 3, 2)\n",
    "\n",
    "plt.grid(True)\n",
    "plt.tick_params(axis='both', which='major', labelsize=15)\n",
    "plt.xlabel('Strain', size = 15)\n",
    "plt.ylabel('Stress (MPa)')\n",
    "e11, e22, e33, e12, e13, e23, s11, s22, s33, s12, s13, s23 = np.loadtxt(outputfile_2, usecols=(8,9,10,11,12,13,14,15,16,17,18,19), unpack=True)\n",
    "plt.plot(e22,s22, c='red', label='direction 2')\n",
    "\n",
    "plt.legend(loc=2)\n",
    "\n",
    "plt.show()"
   ]
  },
  {
   "cell_type": "code",
   "execution_count": null,
   "metadata": {
    "collapsed": true
   },
   "outputs": [],
   "source": []
  }
 ],
 "metadata": {
  "kernelspec": {
   "display_name": "Python 2",
   "language": "python",
   "name": "python2"
  },
  "language_info": {
   "codemirror_mode": {
    "name": "ipython",
    "version": 2
   },
   "file_extension": ".py",
   "mimetype": "text/x-python",
   "name": "python",
   "nbconvert_exporter": "python",
   "pygments_lexer": "ipython2",
   "version": "2.7.14"
  }
 },
 "nbformat": 4,
 "nbformat_minor": 2
}
