{
  "cells": [
    {
      "cell_type": "markdown",
      "source": [
        "# Isotropic linear elasticity"
      ],
      "metadata": {}
    },
    {
      "cell_type": "code",
      "source": [
        "%matplotlib inline\n",
        "\n",
        "import numpy as np\n",
        "import matplotlib.pyplot as plt\n",
        "from simcoon import simmit as sim\n",
        "import os\n",
        "dir = os.path.dirname(os.path.realpath('__file__'))"
      ],
      "outputs": [],
      "execution_count": 2,
      "metadata": {
        "collapsed": false
      }
    },
    {
      "cell_type": "markdown",
      "source": [
        "In thermoelastic isotropic materials three parameters are required: \n",
        "      \n",
        "1. The Young modulus $E$,\n",
        "2. The Poisson ratio $\\nu$,\n",
        "3. The coefficient of thermal expansion $\\alpha$.\n",
        "\n",
        "The elastic stiffness tensor and the thermal expansion coefficients tensor are written in the Voigt notation formalism as\n",
        "\n",
        "$$\\boldsymbol{L}=\\left(\\begin{matrix} L_{1111} & L_{1122} & L_{1122} & 0 & 0 & 0 \\\\ L_{1122} & L_{1111} & L_{1122} & 0 & 0 & 0 \\\\ L_{1122} & L_{1122} & L_{1111} & 0 & 0 & 0 \\\\ 0 & 0 & 0 & L_{1212} & 0 & 0 \\\\ 0 & 0 & 0 & 0 & L_{1212} & 0 \\\\ 0 & 0 & 0 & 0 & 0 & L_{1212} \\end{matrix}\\right), \\quad \\boldsymbol{\\alpha}=\\left(\\begin{matrix} \\alpha & 0 & 0 \\\\ 0 & \\alpha & 0 \\\\ 0 & 0 & \\alpha \\end{matrix}\\right),$$\n",
        "\n",
        "with \n",
        "$$L_{1111}=\\frac{E(1-\\nu)}{(1+\\nu)(1-2\\nu)}, \\quad L_{1122}=\\frac{E\\nu}{(1+\\nu)(1-2\\nu)}, \\quad L_{1212}=\\frac{E}{2(1+\\nu)}.$$\n",
        "\n",
        "Details on the the elastic stiffness tensor of isotropic media can be found in Lai et al 2010. The tangent stiffness tensor in this case is $\\boldsymbol{L}^t=\\boldsymbol{L}$. Moreover, the increment of the elastic strain is given by\n",
        "\n",
        "$$\\Delta\\varepsilon^{\\textrm{el}}_{ij}=\\Delta\\varepsilon^{\\textrm{tot}}_{ij}-\\alpha\\Delta T\\delta_{ij},$$\n",
        "\n",
        "where $\\delta_{ij}$ implies the Kronecker delta operator. In the 1D case only one component of stress is computed, through the relation \n",
        "\n",
        "$$\\sigma^{\\textrm{fin}}_{11}=\\sigma^{\\textrm{init}}_{11}+E\\Delta\\varepsilon^{\\textrm{el}}_{11}.$$\n",
        "\n",
        "In the plane stress case only three components of stress are computed, through the relations \n",
        "\n",
        "$$\\left(\\begin{matrix} \\sigma^{\\textrm{fin}}_{11} \\\\ \\sigma^{\\textrm{fin}}_{22} \\\\ \\sigma^{\\textrm{fin}}_{12} \\end{matrix}\\right) =\\left(\\begin{matrix} \\sigma^{\\textrm{init}}_{11} \\\\ \\sigma^{\\textrm{init}}_{22} \\\\ \\sigma^{\\textrm{init}}_{12} \\end{matrix}\\right)+\\frac{E}{1-\\nu^2} \\left(\\begin{matrix} 1 & \\nu & 0 \\\\ \\nu & 1 & 0 \\\\ 0 & 0 & \\frac{1-\\nu}{2} \\end{matrix}\\right) \\left(\\begin{matrix} \\Delta\\varepsilon^{\\textrm{el}}_{11} \\\\ \\Delta\\varepsilon^{\\textrm{el}}_{22} \\\\ 2\\Delta\\varepsilon^{\\textrm{el}}_{12} \\end{matrix}\\right).$$\n",
        "\n",
        "In the generalized plane strain/3D analysis case the stress tensor is computed through the relation\n",
        "$$\\sigma^{\\textrm{fin}}_{ij}=\\sigma^{\\textrm{init}}_{ij}+L_{ijkl}~\\Delta\\varepsilon^{\\textrm{el}}_{kl}.$$"
      ],
      "metadata": {}
    },
    {
      "cell_type": "code",
      "source": [
        "umat_name = 'ELISO' #This is the 5 character code for the elastic-isotropic subroutine\n",
        "nstatev = 1 #The number of scalar variables required, only the initial temperature is stored here\n",
        "\n",
        "E = 700000.\n",
        "nu = 0.2\n",
        "alpha = 1.E-5\n",
        "\n",
        "psi_rve = 0.\n",
        "theta_rve = 0.\n",
        "phi_rve = 0.\n",
        "solver_type = 0\n",
        "\n",
        "props = np.array([E, nu, alpha])\n",
        "\n",
        "path_data = 'data'\n",
        "path_results = 'results'\n",
        "pathfile = 'path.txt'\n",
        "outputfile = 'results_ELISO.txt'\n",
        "\n",
        "sim.solver(umat_name, props, nstatev, psi_rve, theta_rve, phi_rve, solver_type, path_data, path_results, pathfile, outputfile)\n",
        "\n",
        "outputfile_macro = dir + '/' + path_results + '/results_ELISO_global-0.txt'\n",
        "\n",
        "fig = plt.figure()\n",
        "\n",
        "e11, e22, e33, e12, e13, e23, s11, s22, s33, s12, s13, s23 = np.loadtxt(outputfile_macro, usecols=(8,9,10,11,12,13,14,15,16,17,18,19), unpack=True)\n",
        "plt.grid(True)\n",
        "\n",
        "plt.plot(e11,s11, c='blue')\n",
        "plt.xlabel('Strain')\n",
        "plt.ylabel('Stress (MPa)')\n",
        "\n",
        "plt.show()\n"
      ],
      "outputs": [
        {
          "output_type": "display_data",
          "data": {
            "image/png": "[encoded data removed]",
            "text/plain": [
              "<Figure size 432x288 with 1 Axes>"
            ]
          },
          "metadata": {}
        }
      ],
      "execution_count": 3,
      "metadata": {
        "collapsed": false
      }
    },
    {
      "cell_type": "code",
      "source": [],
      "outputs": [],
      "execution_count": null,
      "metadata": {
        "collapsed": true
      }
    },
    {
      "cell_type": "code",
      "source": [],
      "outputs": [],
      "execution_count": null,
      "metadata": {}
    }
  ],
  "metadata": {
    "kernelspec": {
      "name": "python2",
      "language": "python",
      "display_name": "Python 2"
    },
    "language_info": {
      "mimetype": "text/x-python",
      "nbconvert_exporter": "python",
      "name": "python",
      "pygments_lexer": "ipython2",
      "version": "2.7.17",
      "file_extension": ".py",
      "codemirror_mode": {
        "version": 2,
        "name": "ipython"
      }
    },
    "kernel_info": {
      "name": "python2"
    },
    "nteract": {
      "version": "0.15.0"
    }
  },
  "nbformat": 4,
  "nbformat_minor": 2
}