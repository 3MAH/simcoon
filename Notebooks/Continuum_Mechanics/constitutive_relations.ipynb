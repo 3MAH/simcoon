{
  "cells": [
    {
      "cell_type": "markdown",
      "source": [
        "# constitutive : The Constitutive Library\n",
        "\n",
        "This notebook provide the functions that define the different stiffness tensors considering a Voigt notation"
      ],
      "metadata": {}
    },
    {
      "cell_type": "code",
      "source": [
        "%matplotlib inline\n",
        "\n",
        "import numpy as np\n",
        "import matplotlib.pyplot as plt\n",
        "from simcoon import simmit as sim\n",
        "import os"
      ],
      "outputs": [],
      "execution_count": 4,
      "metadata": {
        "execution": {
          "iopub.status.busy": "2022-01-30T22:16:20.210Z",
          "iopub.execute_input": "2022-01-30T22:16:20.217Z",
          "iopub.status.idle": "2022-01-30T22:16:20.779Z",
          "shell.execute_reply": "2022-01-30T22:16:20.771Z"
        }
      }
    },
    {
      "cell_type": "markdown",
      "source": [
        "## L_iso\n",
        "\n",
        "Provides the elastic stiffness tensor for an isotropic material.\n",
        "The two first arguments are a couple of elastic properties. The third argument specifies which couple has been provided and the nature and order of coefficients.\n",
        "Exhaustive list of possible third argument :\n",
        "‘Enu’,’nuE,’Kmu’,’muK’, ‘KG’, ‘GK’, ‘lambdamu’, ‘mulambda’, ‘lambdaG’, ‘Glambda’.\n",
        "Return a numpy ndarray.\n",
        "Example :"
      ],
      "metadata": {}
    },
    {
      "cell_type": "code",
      "source": [
        "E = 70000.0\n",
        "nu = 0.3\n",
        "L = sim.L_iso(E,nu,\"Enu\")\n",
        "print(np.array_str(L, precision=2, suppress_small=True))\n",
        "\n",
        "d = sim.check_symetries(L)\n",
        "print(d['umat_type'])\n",
        "print(d['props'])\n",
        "\n",
        "x = sim.L_iso_props(L)\n",
        "print(x)\n",
        "\n"
      ],
      "outputs": [
        {
          "output_type": "stream",
          "name": "stdout",
          "text": [
            "[[94230.77 40384.62 40384.62     0.       0.       0.  ]\n",
            " [40384.62 94230.77 40384.62     0.       0.       0.  ]\n",
            " [40384.62 40384.62 94230.77     0.       0.       0.  ]\n",
            " [    0.       0.       0.   26923.08     0.       0.  ]\n",
            " [    0.       0.       0.       0.   26923.08     0.  ]\n",
            " [    0.       0.       0.       0.       0.   26923.08]]\n",
            "ELISO\n",
            "[7.e+04 3.e-01]\n",
            "[7.e+04 3.e-01]\n"
          ]
        }
      ],
      "execution_count": 5,
      "metadata": {
        "execution": {
          "iopub.status.busy": "2022-01-30T22:16:21.673Z",
          "iopub.execute_input": "2022-01-30T22:16:21.680Z",
          "iopub.status.idle": "2022-01-30T22:16:21.693Z",
          "shell.execute_reply": "2022-01-30T22:16:21.697Z"
        }
      }
    },
    {
      "cell_type": "markdown",
      "source": [
        "## M_iso\n",
        "\n",
        "Provides the elastic compliance tensor for an isotropic material.\n",
        "The two first arguments are a couple of elastic properties. The third argument specify which couple has been provided and the nature and order of coefficients.\n",
        "Exhaustive list of possible third argument :\n",
        "‘Enu’,’nuE,’Kmu’,’muK’, ‘KG’, ‘GK’, ‘lambdamu’, ‘mulambda’, ‘lambdaG’, ‘Glambda’."
      ],
      "metadata": {}
    },
    {
      "cell_type": "code",
      "source": [
        "E = 70000.0\n",
        "nu = 0.3\n",
        "M = sim.M_iso(E,nu,\"Enu\")\n",
        "print(np.array_str(M, suppress_small=True))\n",
        "\n",
        "L_inv = np.linalg.inv(M)\n",
        "d = sim.check_symetries(L_inv)\n",
        "print(d['umat_type'])\n",
        "print(d['props'])\n",
        "\n",
        "x = sim.M_iso_props(M)\n",
        "print(x)\n"
      ],
      "outputs": [],
      "execution_count": null,
      "metadata": {
        "scrolled": true,
        "execution": {
          "iopub.status.busy": "2022-01-29T14:52:11.807Z",
          "iopub.execute_input": "2022-01-29T14:52:11.811Z",
          "iopub.status.idle": "2022-01-29T14:52:11.821Z",
          "shell.execute_reply": "2022-01-29T14:52:11.966Z"
        }
      }
    },
    {
      "cell_type": "markdown",
      "source": [
        "## L_cubic\n",
        "\n",
        "Provides the elastic stiffness tensor for a cubic material. Arguments are the stiffness coefficients C11, C12 and C44, or the elastic constants E, nu, G\n",
        "Exhaustive list of possible third argument : ‘Cii’,’EnuG, the by-default argument is 'Cii'"
      ],
      "metadata": {}
    },
    {
      "cell_type": "code",
      "source": [
        "E = 70000.0\n",
        "nu = 0.3\n",
        "G = 23000.0\n",
        "L = sim.L_cubic(E,nu,G,\"EnuG\")\n",
        "print(np.array_str(L, precision=2, suppress_small=True))\n",
        "\n",
        "d = sim.check_symetries(L)\n",
        "print(d['umat_type'])\n",
        "print(d['props'])\n",
        "\n",
        "x = sim.L_cubic_props(L)\n",
        "print(x)\n",
        "\n",
        "C11 = np.random.uniform(10000., 100000.)\n",
        "C12 = np.random.uniform(10000., 100000.)\n",
        "C44 = np.random.uniform(10000., 100000.)\n",
        "Liso = sim.L_cubic(C11,C12,C44, \"Cii\")\n"
      ],
      "outputs": [
        {
          "output_type": "stream",
          "name": "stdout",
          "text": [
            "[[94230.77 40384.62 40384.62     0.       0.       0.  ]\n",
            " [40384.62 94230.77 40384.62     0.       0.       0.  ]\n",
            " [40384.62 40384.62 94230.77     0.       0.       0.  ]\n",
            " [    0.       0.       0.   23000.       0.       0.  ]\n",
            " [    0.       0.       0.       0.   23000.       0.  ]\n",
            " [    0.       0.       0.       0.       0.   23000.  ]]\n",
            "ELCUB\n",
            "[7.0e+04 3.0e-01 2.3e+04]\n",
            "[7.0e+04 3.0e-01 2.3e+04]\n"
          ]
        }
      ],
      "execution_count": 7,
      "metadata": {
        "execution": {
          "iopub.status.busy": "2022-01-30T21:32:38.578Z",
          "iopub.execute_input": "2022-01-30T21:32:38.589Z",
          "iopub.status.idle": "2022-01-30T21:32:38.607Z",
          "shell.execute_reply": "2022-01-30T21:32:38.613Z"
        }
      }
    },
    {
      "cell_type": "markdown",
      "source": [
        "## M_cubic\n",
        "\n",
        "Provides the elastic compliance tensor for a cubic material. Arguments are the stiffness coefficients C11, C12 and C44, or the elastic constants E, nu, G\n",
        "Exhaustive list of possible third argument : ‘Cii’,’EnuG, the by-default argument is 'Cii'"
      ],
      "metadata": {}
    },
    {
      "cell_type": "code",
      "source": [
        "E = 70000.0\n",
        "nu = 0.3\n",
        "G = 23000.0\n",
        "M = sim.M_cubic(E,nu,G,\"EnuG\")\n",
        "print(np.array_str(M, suppress_small=True))\n",
        "\n",
        "L = np.linalg.inv(M)\n",
        "d = sim.check_symetries(L)\n",
        "print(d['umat_type'])\n",
        "print(d['props'])\n",
        "\n",
        "x = sim.L_cubic_props(L)\n",
        "print(x)"
      ],
      "outputs": [],
      "execution_count": null,
      "metadata": {
        "execution": {
          "iopub.status.busy": "2022-01-29T14:52:11.847Z",
          "iopub.execute_input": "2022-01-29T14:52:11.851Z",
          "iopub.status.idle": "2022-01-29T14:52:11.860Z",
          "shell.execute_reply": "2022-01-29T14:52:11.974Z"
        }
      }
    },
    {
      "cell_type": "markdown",
      "source": [
        "## L_isotrans\n",
        "\n",
        "Provides the elastic stiffness tensor for an isotropic transverse material.\n",
        "Arguments are longitudinal Young modulus EL, transverse young modulus, Poisson’s ratio for loading along the longitudinal axis nuTL, Poisson’s ratio for loading along the transverse axis nuTT, shear modulus GLT and the axis of symmetry."
      ],
      "metadata": {}
    },
    {
      "cell_type": "code",
      "source": [
        "EL = 70000.0\n",
        "ET = 20000.0\n",
        "nuTL = 0.08\n",
        "nuTT = 0.3\n",
        "GLT = 12000.0\n",
        "axis = 3\n",
        "L = sim.L_isotrans(EL,ET,nuTL,nuTT,GLT,axis)\n",
        "print(np.array_str(L, precision=2, suppress_small=True))\n",
        "\n",
        "d = sim.check_symetries(L)\n",
        "print(d['umat_type'])\n",
        "print(d['axis'])\n",
        "print(np.array_str(d['props'], precision=2, suppress_small=True))\n",
        "\n",
        "x = sim.L_isotrans_props(L,axis)\n",
        "print(np.array_str(x, precision=2))"
      ],
      "outputs": [],
      "execution_count": null,
      "metadata": {
        "execution": {
          "iopub.status.busy": "2022-01-29T14:52:11.866Z",
          "iopub.execute_input": "2022-01-29T14:52:11.870Z",
          "iopub.status.idle": "2022-01-29T14:52:11.880Z",
          "shell.execute_reply": "2022-01-29T14:52:11.977Z"
        }
      }
    },
    {
      "cell_type": "markdown",
      "source": [
        "    bp::def(\"L_iso\", L_iso);\n",
        "    bp::def(\"M_iso\", M_iso);\n",
        "    bp::def(\"L_cubic\", L_cubic);\n",
        "    bp::def(\"M_cubic\", M_cubic);\n",
        "    bp::def(\"L_ortho\", L_ortho);\n",
        "    bp::def(\"M_ortho\", M_ortho);\n",
        "    bp::def(\"L_isotrans\", L_isotrans);\n",
        "    bp::def(\"M_isotrans\", M_isotrans);\n",
        "    \n",
        "    bp::def(\"check_symetries\", check_symetries);\n",
        "    bp::def(\"L_iso_props\", L_iso_props);\n",
        "    bp::def(\"M_iso_props\", M_iso_props);\n",
        "    bp::def(\"L_isotrans_props\", L_isotrans_props);\n",
        "    bp::def(\"M_isotrans_props\", M_isotrans_props);\n",
        "    bp::def(\"L_cubic_props\", L_cubic_props);\n",
        "    bp::def(\"M_cubic_props\", M_cubic_props);\n",
        "    bp::def(\"L_ortho_props\", L_ortho_props);\n",
        "    bp::def(\"M_ortho_props\", M_ortho_props);\n",
        "    bp::def(\"M_aniso_props\", M_aniso_props);"
      ],
      "metadata": {}
    },
    {
      "cell_type": "markdown",
      "source": [
        "## M_isotrans\n",
        "\n",
        "Provides the elastic compliance tensor for an isotropic transverse material.\n",
        "Arguments are longitudinal Young modulus EL, transverse young modulus, Poisson’s ratio for loading along the longitudinal axis nuTL, Poisson’s ratio for loading along the transverse axis nuTT, shear modulus GLT and the axis of symmetry."
      ],
      "metadata": {}
    },
    {
      "cell_type": "code",
      "source": [
        "EL = 70000.0\n",
        "ET = 20000.0\n",
        "nuTL = 0.08\n",
        "nuTT = 0.3\n",
        "GLT = 12000.0\n",
        "axis = 3\n",
        "M = sim.M_isotrans(EL,ET,nuTL,nuTT,GLT,axis)\n",
        "print(np.array_str(M, suppress_small=True))\n",
        "\n",
        "x = sim.M_isotrans_props(M,axis)\n",
        "print(np.array_str(x, precision=2, suppress_small=True))"
      ],
      "outputs": [],
      "execution_count": null,
      "metadata": {
        "execution": {
          "iopub.status.busy": "2022-01-29T14:52:11.885Z",
          "iopub.execute_input": "2022-01-29T14:52:11.890Z",
          "iopub.status.idle": "2022-01-29T14:52:11.899Z",
          "shell.execute_reply": "2022-01-29T14:52:11.981Z"
        }
      }
    },
    {
      "cell_type": "markdown",
      "source": [
        "## L_ortho\n",
        "\n",
        "Provides the elastic stiffness tensor for an orthotropic material.\n",
        "Arguments are either (convention 'EnuG'):\n",
        "\n",
        "1. The Young modulus of axis 1 $E_1$,\n",
        "2. The Young modulus of axis 2 $E_2$,\n",
        "3. The Young modulus of axis 3 $E_3$,\n",
        "4. The Poisson ratio of direction 1 with respect to 2 $\\nu_{12}$,\n",
        "5. The Poisson ratio of direction 1 with respect to 3 $\\nu_{13}$,\n",
        "6. The Poisson ratio of direction 2 with respect to 3 $\\nu_{13}$,\n",
        "7. The shear modulus of direction 1 with respect to 2 $G_{12}$,\n",
        "8. The shear modulus of direction 1 with respect to 3 $G_{13}$,\n",
        "9. The shear modulus of direction 2 with respect to 3 $G_{23}$,\n",
        "10. The axial coefficient of thermal expansion in direction 1 $\\alpha_1$,\n",
        "11. The axial coefficient of thermal expansion in direction 1 $\\alpha_2$,\n",
        "12. The axial coefficient of thermal expansion in direction 1 $\\alpha_3$,\n",
        "\n",
        "or the list of Cii (C11, C12, C13, C22, C23, C33, C44, C55, C66) (convention 'Cii')"
      ],
      "metadata": {}
    },
    {
      "cell_type": "code",
      "source": [
        "E_1 = 4500.0\n",
        "E_2 = 2300.0\n",
        "E_3 = 2700.0\n",
        "nu_12 = 0.06\n",
        "nu_13 = 0.08\n",
        "nu_23 = 0.3\n",
        "G_12 = 2200.0\n",
        "G_13 = 2100.0\n",
        "G_23 = 2400.0\n",
        "\n",
        "L = sim.L_ortho(E_1,E_2,E_3,nu_12,nu_13,nu_23,G_12,G_13,G_23,'EnuG')\n",
        "print(np.array_str(L, precision=2, suppress_small=True))\n",
        "\n",
        "d = sim.check_symetries(L)\n",
        "print(d['umat_type'])\n",
        "print(d['axis'])\n",
        "print(np.array_str(d['props'], precision=2, suppress_small=True))\n",
        "\n",
        "x = sim.L_ortho_props(L)\n",
        "print(np.array_str(x, precision=2, suppress_small=True))"
      ],
      "outputs": [],
      "execution_count": null,
      "metadata": {
        "execution": {
          "iopub.status.busy": "2022-01-29T14:52:11.906Z",
          "iopub.execute_input": "2022-01-29T14:52:11.911Z",
          "iopub.status.idle": "2022-01-29T14:52:11.923Z",
          "shell.execute_reply": "2022-01-29T14:52:11.984Z"
        }
      }
    },
    {
      "cell_type": "markdown",
      "source": [
        "## M_ortho\n",
        "\n",
        "Provides the elastic compliance tensor for an orthotropic material.\n",
        "Arguments are either (convention 'EnuG'):\n",
        "\n",
        "1. The Young modulus of axis 1 $E_1$,\n",
        "2. The Young modulus of axis 2 $E_2$,\n",
        "3. The Young modulus of axis 3 $E_3$,\n",
        "4. The Poisson ratio of direction 1 with respect to 2 $\\nu_{12}$,\n",
        "5. The Poisson ratio of direction 1 with respect to 3 $\\nu_{13}$,\n",
        "6. The Poisson ratio of direction 2 with respect to 3 $\\nu_{13}$,\n",
        "7. The shear modulus of direction 1 with respect to 2 $G_{12}$,\n",
        "8. The shear modulus of direction 1 with respect to 3 $G_{13}$,\n",
        "9. The shear modulus of direction 2 with respect to 3 $G_{23}$,\n",
        "10. The axial coefficient of thermal expansion in direction 1 $\\alpha_1$,\n",
        "11. The axial coefficient of thermal expansion in direction 1 $\\alpha_2$,\n",
        "12. The axial coefficient of thermal expansion in direction 1 $\\alpha_3$,\n",
        "\n",
        "or the list of Cii (C11, C12, C13, C22, C23, C33, C44, C55, C66) (convention 'Cii')"
      ],
      "metadata": {}
    },
    {
      "cell_type": "code",
      "source": [
        "E_1 = 4500.0\n",
        "E_2 = 2300.0\n",
        "E_3 = 2700.0\n",
        "nu_12 = 0.06\n",
        "nu_13 = 0.08\n",
        "nu_23 = 0.3\n",
        "G_12 = 2200.0\n",
        "G_13 = 2100.0\n",
        "G_23 = 2400.0\n",
        "\n",
        "M = sim.M_ortho(E_1,E_2,E_3,nu_12,nu_13,nu_23,G_12,G_13,G_23,'EnuG')\n",
        "print(np.array_str(M, suppress_small=True))\n",
        "\n",
        "x = sim.M_ortho_props(M)\n",
        "print(np.array_str(x, precision=4, suppress_small=True))"
      ],
      "outputs": [],
      "execution_count": null,
      "metadata": {
        "execution": {
          "iopub.status.busy": "2022-01-29T14:52:11.929Z",
          "iopub.execute_input": "2022-01-29T14:52:11.933Z",
          "iopub.status.idle": "2022-01-29T14:52:11.943Z",
          "shell.execute_reply": "2022-01-29T14:52:11.987Z"
        }
      }
    },
    {
      "cell_type": "code",
      "source": [
        "L = sim.L_iso(70000.0, 0.3,\"Enu\");\n",
        "Eel = np.random.uniform(0., 1., 6);\n",
        "ndi = 3\n",
        "sigma =  sim.el_pred(L, Eel, ndi)\n"
      ],
      "outputs": [
        {
          "output_type": "error",
          "ename": "AttributeError",
          "evalue": "module 'simcoon.simmit' has no attribute 'el_pred'",
          "traceback": [
            "\u001b[0;31m---------------------------------------------------------------------------\u001b[0m",
            "\u001b[0;31mAttributeError\u001b[0m                            Traceback (most recent call last)",
            "Input \u001b[0;32mIn [6]\u001b[0m, in \u001b[0;36m<module>\u001b[0;34m\u001b[0m\n\u001b[1;32m      2\u001b[0m Eel \u001b[38;5;241m=\u001b[39m np\u001b[38;5;241m.\u001b[39mrandom\u001b[38;5;241m.\u001b[39muniform(\u001b[38;5;241m0.\u001b[39m, \u001b[38;5;241m1.\u001b[39m, \u001b[38;5;241m6\u001b[39m);\n\u001b[1;32m      3\u001b[0m ndi \u001b[38;5;241m=\u001b[39m \u001b[38;5;241m3\u001b[39m\n\u001b[0;32m----> 4\u001b[0m sigma \u001b[38;5;241m=\u001b[39m  \u001b[43msim\u001b[49m\u001b[38;5;241;43m.\u001b[39;49m\u001b[43mel_pred\u001b[49m(L, Eel, ndi)\n",
            "\u001b[0;31mAttributeError\u001b[0m: module 'simcoon.simmit' has no attribute 'el_pred'"
          ]
        }
      ],
      "execution_count": 6,
      "metadata": {
        "execution": {
          "iopub.status.busy": "2022-01-30T22:53:01.061Z",
          "iopub.execute_input": "2022-01-30T22:53:01.071Z"
        }
      }
    },
    {
      "cell_type": "code",
      "source": [
        "E = 70000.0\n",
        "nu = 0.3\n",
        "L = sim.L_iso(E,nu,\"Enu\")"
      ],
      "outputs": [],
      "execution_count": 9,
      "metadata": {
        "execution": {
          "iopub.status.busy": "2022-01-31T09:10:23.908Z",
          "iopub.execute_input": "2022-01-31T09:10:23.915Z",
          "iopub.status.idle": "2022-01-31T09:10:23.927Z",
          "shell.execute_reply": "2022-01-31T09:10:23.935Z"
        }
      }
    },
    {
      "cell_type": "code",
      "source": [],
      "outputs": [],
      "execution_count": null,
      "metadata": {
        "collapsed": true,
        "jupyter": {
          "source_hidden": false,
          "outputs_hidden": false
        },
        "nteract": {
          "transient": {
            "deleting": false
          }
        }
      }
    }
  ],
  "metadata": {
    "kernelspec": {
      "display_name": "Python 2",
      "language": "python",
      "name": "python2"
    },
    "language_info": {
      "name": "python",
      "version": "3.8.12",
      "mimetype": "text/x-python",
      "codemirror_mode": {
        "name": "ipython",
        "version": 3
      },
      "pygments_lexer": "ipython3",
      "nbconvert_exporter": "python",
      "file_extension": ".py"
    },
    "nteract": {
      "version": "0.28.0"
    }
  },
  "nbformat": 4,
  "nbformat_minor": 2
}